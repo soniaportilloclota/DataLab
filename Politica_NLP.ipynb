{
 "cells": [
  {
   "cell_type": "code",
   "execution_count": null,
   "metadata": {},
   "outputs": [],
   "source": [
    "import pandas as pd\n",
    "import numpy as np\n",
    "import gzip\n",
    "import logging\n",
    "import yaml\n",
    "import codecs\n",
    "global lcode\n",
    "import re\n",
    "import sys\n",
    "from collections import Counter\n",
    "from nltk import word_tokenize\n",
    "import nltk\n",
    "import spacy\n",
    "\n",
    "import os\n",
    "import matplotlib.pyplot as plt\n",
    "import seaborn as sns\n",
    "import itertools\n",
    "import collections\n",
    "\n",
    "#import tweepy as tw\n",
    "from nltk.corpus import stopwords\n",
    "import networkx\n",
    "\n",
    "import warnings\n",
    "warnings.filterwarnings(\"ignore\")\n",
    "\n",
    "sns.set(font_scale=1.5)\n",
    "sns.set_style(\"whitegrid\")"
   ]
  },
  {
   "cell_type": "markdown",
   "metadata": {},
   "source": [
    "Corpora\n",
    "http://www.nltk.org/nltk_data/\n",
    "\n",
    "nltk.download() o python -m nltk.downloader all (consola)"
   ]
  },
  {
   "cell_type": "code",
   "execution_count": null,
   "metadata": {},
   "outputs": [],
   "source": [
    "dateparse = lambda dates: [pd.datetime.strptime(d, '%Y-%m-%d %H:%M:%S') for d in dates]"
   ]
  },
  {
   "cell_type": "code",
   "execution_count": null,
   "metadata": {},
   "outputs": [],
   "source": [
    "col_names = [\"col1\", \"col2\", \"col3\", \"tweet\", \"via\", \"id\", \"followers\", \"following\", \"statuses\", \"loc\", \"col11\", \"col12\", \"col13\",\n",
    "            \"col14\", \"col15\", \"col16\", \"col17\", \"col18\", \"col19\", \"col20\", \"col21\", \"col22\", \"col23\", \"col24\", \"col25\",\n",
    "            \"col26\",\"col27\", \"col28\", \"col29\", \"col30\"]\n",
    "\n",
    "df3 = pd.read_csv('/Users/cxb0266/Desktop/odio_politicas/streaming_odio_politicas_3.txt', sep= \"\\t\",\n",
    "                  names=col_names, encoding='utf-8')\n"
   ]
  },
  {
   "cell_type": "code",
   "execution_count": null,
   "metadata": {},
   "outputs": [],
   "source": [
    "df0 = pd.read_csv('/Users/cxb0266/Desktop/odio_politicas/streaming_odio_politicas_0.txt', sep= \"\\t\",\n",
    "                  names=col_names, encoding='utf-8')"
   ]
  },
  {
   "cell_type": "code",
   "execution_count": null,
   "metadata": {},
   "outputs": [],
   "source": [
    "df1 = pd.read_csv('/Users/cxb0266/Desktop/odio_politicas/streaming_odio_politicas_1.txt', sep= \"\\t\",\n",
    "                  names=col_names, encoding='utf-8')"
   ]
  },
  {
   "cell_type": "code",
   "execution_count": null,
   "metadata": {},
   "outputs": [],
   "source": [
    "df2 = pd.read_csv('/Users/cxb0266/Desktop/odio_politicas/streaming_odio_politicas_2.txt', sep= \"\\t\",\n",
    "                  names=col_names, encoding='utf-8')"
   ]
  },
  {
   "cell_type": "code",
   "execution_count": null,
   "metadata": {},
   "outputs": [],
   "source": [
    "df4 = pd.read_csv('/Users/cxb0266/Desktop/odio_politicas/streaming_odio_politicas_4.txt', sep= \"\\t\",\n",
    "                  names=col_names, encoding='utf-8')"
   ]
  },
  {
   "cell_type": "code",
   "execution_count": null,
   "metadata": {},
   "outputs": [],
   "source": [
    "df5 = pd.read_csv('/Users/cxb0266/Desktop/odio_politicas/streaming_odio_politicas_5.txt', sep= \"\\t\",\n",
    "                  names=col_names, encoding='utf-8')"
   ]
  },
  {
   "cell_type": "code",
   "execution_count": null,
   "metadata": {},
   "outputs": [],
   "source": [
    "df6 = pd.read_csv('/Users/cxb0266/Desktop/odio_politicas/streaming_odio_politicas_6.txt', sep= \"\\t\",\n",
    "                  names=col_names, encoding='utf-8')"
   ]
  },
  {
   "cell_type": "code",
   "execution_count": null,
   "metadata": {},
   "outputs": [],
   "source": [
    "df7 = pd.read_csv('/Users/cxb0266/Desktop/odio_politicas/streaming_odio_politicas_7.txt', sep= \"\\t\",\n",
    "                  names=col_names, encoding='utf-8')"
   ]
  },
  {
   "cell_type": "code",
   "execution_count": null,
   "metadata": {},
   "outputs": [],
   "source": [
    "df8 = pd.read_csv('/Users/cxb0266/Desktop/odio_politicas/streaming_odio_politicas_8.txt', sep= \"\\t\",\n",
    "                  names=col_names, encoding='utf-8')"
   ]
  },
  {
   "cell_type": "code",
   "execution_count": null,
   "metadata": {},
   "outputs": [],
   "source": [
    "frames = [df0, df1, df2, df3, df4, df5, df6, df7, df8]\n",
    "tweets=pd.concat(frames)"
   ]
  },
  {
   "cell_type": "code",
   "execution_count": null,
   "metadata": {},
   "outputs": [],
   "source": [
    "tweets.info()"
   ]
  },
  {
   "cell_type": "markdown",
   "metadata": {},
   "source": [
    "DataSets unidos. Tokenizar, palabras stop"
   ]
  },
  {
   "cell_type": "code",
   "execution_count": null,
   "metadata": {},
   "outputs": [],
   "source": [
    "tweets=tweets.astype(str)"
   ]
  },
  {
   "cell_type": "code",
   "execution_count": null,
   "metadata": {},
   "outputs": [],
   "source": [
    "pd.set_option('display.max_colwidth', -1)"
   ]
  },
  {
   "cell_type": "code",
   "execution_count": null,
   "metadata": {
    "scrolled": true
   },
   "outputs": [],
   "source": [
    "tweets.head()"
   ]
  },
  {
   "cell_type": "code",
   "execution_count": null,
   "metadata": {},
   "outputs": [],
   "source": [
    "#Crear una nueva columa RT. Si es RT devulve 1 sino 0\n",
    "new = tweets[\"tweet\"].str.split(\"@\", n = 1, expand = True) \n",
    "\n",
    "tweets[\"RT\"]= new[0] \n",
    "\n",
    "tweets[\"tw\"]= new[1]"
   ]
  },
  {
   "cell_type": "code",
   "execution_count": null,
   "metadata": {},
   "outputs": [],
   "source": [
    "tweets['RT']=tweets['RT'].replace({'':0, 'RT ':1})"
   ]
  },
  {
   "cell_type": "markdown",
   "metadata": {},
   "source": [
    "### Prueba: Numero de palabras en politicas_8"
   ]
  },
  {
   "cell_type": "code",
   "execution_count": null,
   "metadata": {},
   "outputs": [],
   "source": [
    "words = Counter()\n",
    "with open('/Users/cxb0266/Desktop/odio_politicas/streaming_odio_politicas_8.txt') as fin:\n",
    "    words.update(word_tokenize(fin.read().lower()))"
   ]
  },
  {
   "cell_type": "code",
   "execution_count": null,
   "metadata": {},
   "outputs": [],
   "source": [
    "print('There are ' + str(sum(words.values())) + ' total words.')"
   ]
  },
  {
   "cell_type": "code",
   "execution_count": null,
   "metadata": {},
   "outputs": [],
   "source": [
    "print('There are ' + str(len(words)) + ' unique words.')"
   ]
  },
  {
   "cell_type": "markdown",
   "metadata": {},
   "source": [
    "## Limpieza de datos"
   ]
  },
  {
   "cell_type": "code",
   "execution_count": null,
   "metadata": {},
   "outputs": [],
   "source": [
    "def  clean_text(df):\n",
    "    df = df.str.lower()\n",
    "    df = df.apply(lambda elem: \" \".join(re.sub(\"á\", \"a\", elem).split()))\n",
    "    df = df.apply(lambda elem: \" \".join(re.sub(\"é\", \"e\", elem).split()))\n",
    "    df = df.apply(lambda elem: \" \".join(re.sub(\"í\", \"i\", elem).split()))\n",
    "    df = df.apply(lambda elem: \" \".join(re.sub(\"ó\", \"o\", elem).split()))\n",
    "    df = df.apply(lambda elem: \" \".join(re.sub(\"ú\", \"u\", elem).split()))\n",
    "    df = df.apply(lambda elem: \" \".join(re.sub(\"ñ\", \"n\", elem).split()))\n",
    "    df = df.apply(lambda elem: \" \".join(re.sub(\"(@[A-Za-z0-9]+)|([^0-9A-Za-z \\t])|(\\w+:\\/\\/\\S+)|http.+?|^rt\", \" \", elem).split()))\n",
    "    return df\n",
    "tweets['tweet']=clean_text(tweets['tweet'])"
   ]
  },
  {
   "cell_type": "markdown",
   "metadata": {},
   "source": [
    "Separar del tweet a quien va dirigido."
   ]
  },
  {
   "cell_type": "code",
   "execution_count": null,
   "metadata": {},
   "outputs": [],
   "source": [
    "newt = tweets[\"tw\"].str.split(\" \", n = 1, expand = True) \n",
    "\n",
    "tweets[\"Dir\"]= newt[0] \n",
    "\n",
    "tweets[\"tw2\"]= newt[1]\n",
    "\n",
    "tweets.drop(columns =[\"tw\"], inplace = True)\n",
    "tweets.drop(columns =[\"tw2\"], inplace = True)"
   ]
  },
  {
   "cell_type": "markdown",
   "metadata": {},
   "source": [
    "Stop words"
   ]
  },
  {
   "cell_type": "code",
   "execution_count": null,
   "metadata": {},
   "outputs": [],
   "source": [
    "from nltk.corpus import stopwords\n",
    "nltk.download('stopwords')\n",
    "stop_words_set = set(stopwords.words(\"spanish\"))"
   ]
  },
  {
   "cell_type": "code",
   "execution_count": null,
   "metadata": {},
   "outputs": [],
   "source": [
    "stop_words=list(stop_words_set)"
   ]
  },
  {
   "cell_type": "markdown",
   "metadata": {},
   "source": [
    "Stop words sin acentos, hemos quitado los acentos de todos los tweets. Se envita confusión por faltas de ortografía "
   ]
  },
  {
   "cell_type": "code",
   "execution_count": null,
   "metadata": {},
   "outputs": [],
   "source": [
    "stop_words_mak=['tiene','vuestra','habiendo','han','tendremos','tenemos','hubisteis','hayas',\n",
    " 'habian','seas','muy','se','tienes','habidos','mia','tuviste','tengas','contra','tuvieseis',\n",
    " 'habiais','he','estariamos','estuvieron','para','fui','has','al','era','tenidos','nada',\n",
    " 'estados','tuvieran','teneis','sentidas','fueran','estare','en','sois','que','estuvieras',\n",
    " 'tendras','tuvieses','estado','erais','sus','si','seais','estuvieramos','hubimos','tuyas',\n",
    " 'esteis','quienes','ella','todos','sea','fueses','otra','tenido','mios','del','sean','tenia',\n",
    " 'mas','tambien','fueseis','ni','vuestro','habiamos','fueras','tu','que','sentida','antes',\n",
    " 'y','hube','tendrian','tu','estarian','este','tuvierais','os','tendre','no','fueramos','vosotras',\n",
    " 'ti','tendrias','seran','habriais','esta','estos','lo','estuviesemos','hubieses','eres',\n",
    " 'nuestra','hayamos','estaras','la','estamos','habria','somos','tendran','yo','habras','habra',\n",
    " 'seria','hay','poco','tendriamos','por','el','pero','habrias','estuviste','sobre','otro',\n",
    " 'estaran','habeis','esos','tuvieron','hayais','cuando','estadas','estuvo','tenias','estemos',\n",
    " 'sintiendo','teniamos','habias','tuvo','hubiese','ha','vuestras','son','esto','nosotros',\n",
    " 'estaba','como','habre','habreis','mucho','habrian','vosotros','eras','fue','sentid','sera',\n",
    " 'mi','estas','ante','es','tuvieramos','mias','me','hubieras','tenian','esta','estuvieses',\n",
    " 'hubiesemos','tuve','fuese','estuvierais','los','hubieron','desde','fuiste','cual','estuve',\n",
    " 'tus','mis','ya','nuestros','tuviese','donde','su','eran','ese','serias','habidas','durante',\n",
    " 'habran','tengamos','tuvimos','le','estaban','seamos','estarias','un','algo','tengan','sereis',\n",
    " 'estabamos','tuviesemos','estara','hubieseis','serian','seriais','tenida','estabais','estuvimos',\n",
    " 'estuviesen','mio','fueron','siente','ellos','e','suya','estuviese','estuvieran','nosotras',\n",
    " 'estuvieseis','o','tienen','las','habriamos','estuviera','tengo','estando','muchos','tenidas',\n",
    " 'tendra','estaremos','el','hubo','estaria','sere','a','vuestros','hubierais','suyo','tuvisteis',\n",
    " 'otros','tuvieras','eramos','estes','habido','estoy','suyas','estabas','fuerais','algunas',\n",
    " 'esten','soy','otras','tanto','estariais','estareis','hasta','habremos','esa','hayan','mi',\n",
    " 'eso','quien','tened','estan','tuya','hubieran','entre','seriamos','unos','hubiera','porque',\n",
    " 'algunos','estas','fuera','estar','habida','fuesen','tendreis','con','tengais','suyos',\n",
    " 'este','estad','fuisteis','sentido','todo','hubieramos','estuvisteis','sin','seremos','tuyos',\n",
    " 'de','uno','les','nuestro','sentidos','teniais','hubiesen','hubiste','tuviesen','esas','tendria',\n",
    " 'seras','teniendo','estais','te','tuyo','fuimos','haya','fuesemos','habia','nuestras','tenga',\n",
    " 'una','tendriais','tuviera','hemos','nos','ellas','estada']"
   ]
  },
  {
   "cell_type": "code",
   "execution_count": null,
   "metadata": {},
   "outputs": [],
   "source": [
    "stop_words"
   ]
  },
  {
   "cell_type": "code",
   "execution_count": null,
   "metadata": {},
   "outputs": [],
   "source": [
    "stop_words_mak"
   ]
  },
  {
   "cell_type": "markdown",
   "metadata": {},
   "source": [
    "## Tokenización y eliminar stop words"
   ]
  },
  {
   "cell_type": "code",
   "execution_count": null,
   "metadata": {},
   "outputs": [],
   "source": [
    "def remove_stopwords(words):\n",
    "    \"\"\"Remove stop words from list of tokenized words\"\"\"\n",
    "    new_words = []\n",
    "    for word in words:\n",
    "        if word not in stopwords.words('spanish'):\n",
    "            new_words.append(word)\n",
    "    return new_words"
   ]
  },
  {
   "cell_type": "code",
   "execution_count": null,
   "metadata": {},
   "outputs": [],
   "source": [
    "#tokenizar tweets['tweet']\n",
    "tokenized_tweet = tweets['tweet'].apply(lambda x: x.split())\n",
    "tokenized_tweet.head()"
   ]
  },
  {
   "cell_type": "code",
   "execution_count": null,
   "metadata": {},
   "outputs": [],
   "source": [
    "tokenized_tweet=remove_stopwords(tokenized_tweet)"
   ]
  },
  {
   "cell_type": "code",
   "execution_count": null,
   "metadata": {},
   "outputs": [],
   "source": [
    "tokenized_tweet"
   ]
  },
  {
   "cell_type": "markdown",
   "metadata": {},
   "source": [
    "The tweets above have some elements that you do not want in your word counts. For instance, URLs will not be analyzed in this lesson. You can remove URLs (links) using regular expressions accessed from the re package.\n",
    "\n",
    "https://www.earthdatascience.org/courses/earth-analytics-python/using-apis-natural-language-processing-twitter/calculate-tweet-word-frequencies-in-python/"
   ]
  },
  {
   "cell_type": "markdown",
   "metadata": {},
   "source": [
    "Palabras STOP. The Python package nltk, commonly used for text analysis, provides a list of “stop words” that you can use to clean your Twitter data."
   ]
  },
  {
   "cell_type": "code",
   "execution_count": null,
   "metadata": {},
   "outputs": [],
   "source": [
    "tweets_nsw = [[word for word in words_in if not word in stop_words_mak]\n",
    "              for words_in in tokenized_tweet]"
   ]
  },
  {
   "cell_type": "markdown",
   "metadata": {},
   "source": [
    "## Bag of words\n",
    "No la utilizo, pero para más adelante, quizas le sacamos utilidad"
   ]
  },
  {
   "cell_type": "code",
   "execution_count": null,
   "metadata": {},
   "outputs": [],
   "source": [
    "from sklearn.feature_extraction.text import CountVectorizer\n",
    "bow_vectorizer = CountVectorizer(max_df=0.90, min_df=2, max_features=20)\n",
    "# bag-of-words feature matrix\n",
    "bow = bow_vectorizer.fit_transform(tweets['tweet'])"
   ]
  },
  {
   "cell_type": "code",
   "execution_count": null,
   "metadata": {},
   "outputs": [],
   "source": [
    "print(bow)"
   ]
  },
  {
   "cell_type": "markdown",
   "metadata": {},
   "source": [
    "### Frecuencias "
   ]
  },
  {
   "cell_type": "code",
   "execution_count": null,
   "metadata": {},
   "outputs": [],
   "source": [
    "#Mas comunes, Utilizar tokenized_tweet = tweets['tweet'].apply(lambda x: x.split())\n",
    "\n",
    "all_words_nsw = list(itertools.chain(*tweets_nsw)) # tokenized_tweet\n",
    "\n",
    "counts_nsw = collections.Counter(all_words_nsw)\n",
    "\n",
    "counts_nsw.most_common(100)\n",
    "\n"
   ]
  },
  {
   "cell_type": "code",
   "execution_count": null,
   "metadata": {
    "scrolled": true
   },
   "outputs": [],
   "source": [
    "#https://www.analyticsvidhya.com/blog/2018/07/hands-on-sentiment-analysis-dataset-python/\n",
    "#Grafico mas comunes\n",
    "clean_tweets_nsw = pd.DataFrame(counts_nsw.most_common(15),\n",
    "                             columns=['words', 'count'])\n",
    "\n",
    "fig, ax = plt.subplots(figsize=(8, 8))\n",
    "\n",
    "# Plot horizontal bar graph\n",
    "clean_tweets_nsw.sort_values(by='count').plot.barh(x='words',\n",
    "                      y='count',\n",
    "                      ax=ax,\n",
    "                      color=\"purple\")\n",
    "\n",
    "ax.set_title(\"Common Words Found in Tweets (Without Stop Words)\")\n",
    "\n",
    "plt.show()"
   ]
  },
  {
   "cell_type": "markdown",
   "metadata": {},
   "source": [
    "### Filtrar por tweets dirigidos a politicos (dir) y tweets escritos por politicos (col3)"
   ]
  },
  {
   "cell_type": "code",
   "execution_count": null,
   "metadata": {},
   "outputs": [],
   "source": [
    "tweets['Dir'].unique()"
   ]
  },
  {
   "cell_type": "code",
   "execution_count": null,
   "metadata": {},
   "outputs": [],
   "source": [
    "tweets['col3'].unique()"
   ]
  },
  {
   "cell_type": "code",
   "execution_count": null,
   "metadata": {},
   "outputs": [],
   "source": [
    "tweets.Dir.value_counts()"
   ]
  },
  {
   "cell_type": "code",
   "execution_count": null,
   "metadata": {},
   "outputs": [],
   "source": [
    "tweets.col3.value_counts()"
   ]
  },
  {
   "cell_type": "markdown",
   "metadata": {},
   "source": [
    "Filtrar por politico tanto en col3 como en Dir, ver cuantos escribe cada uno y cuantos recibe, ver las palabras más habituales. \n",
    "Como al cortar el tweet original a veces quedaba algún signo de puntuación los eliminamos."
   ]
  },
  {
   "cell_type": "code",
   "execution_count": null,
   "metadata": {},
   "outputs": [],
   "source": [
    "tweets=tweets.astype(str)\n",
    "def  clean_text_2(df):\n",
    "    df = df.str.lower()\n",
    "    df = df.apply(lambda elem: \" \".join(re.sub(\"([^0-9A-Za-z \\t])\", \" \", elem).split()))\n",
    "    return df\n",
    "tweets['Dir']=clean_text_2(tweets['Dir'])"
   ]
  },
  {
   "cell_type": "markdown",
   "metadata": {},
   "source": [
    "Filtramos los tweets dirigidos a los ditintos politicos y obtenemos las palabras más frecuentes."
   ]
  },
  {
   "cell_type": "code",
   "execution_count": null,
   "metadata": {},
   "outputs": [],
   "source": [
    "sanchezcastejon = tweets.loc[tweets['Dir'] == \"sanchezcastejon\"]\n",
    "santi_abascal = tweets.loc[tweets['Dir'] == \"santi abascal\"]\n",
    "pablo_iglesias = tweets.loc[tweets['Dir'] == \"pablo iglesias\"] \n",
    "albert_rivera = tweets.loc[tweets['Dir'] == \"albert rivera\"]                            \n",
    "inesarrimadas = tweets.loc[tweets['Dir'] == \"inesarrimadas\"]                       \n",
    "pablocasado = tweets.loc[tweets['Dir'] == \"pablocasado\"]                             \n",
    "irenemontero = tweets.loc[tweets['Dir'] == \"irene montero\"]                             \n",
    "carmencalvo = tweets.loc[tweets['Dir'] == \"carmencalvo\"]                          \n",
    "cayetanaat = tweets.loc[tweets['Dir'] == \"cayetanaat\"]                               \n",
    "monasterior = tweets.loc[tweets['Dir'] == \"monasterior\"]"
   ]
  },
  {
   "cell_type": "markdown",
   "metadata": {},
   "source": [
    "Función que tokeniza y elimina las stop words"
   ]
  },
  {
   "cell_type": "code",
   "execution_count": null,
   "metadata": {},
   "outputs": [],
   "source": [
    "def num_palabras(politico):\n",
    "    tokenized_tweet = politico['tweet'].apply(lambda x: x.split())\n",
    "\n",
    "    tokenized_tweet=remove_stopwords(tokenized_tweet)\n",
    "\n",
    "    tweets_nsw = [[word for word in words_in if not word in stop_words_mak]\n",
    "              for words_in in tokenized_tweet]\n",
    "\n",
    "    all_words_nsw = list(itertools.chain(*tweets_nsw)) # tokenized_tweet\n",
    "\n",
    "    counts_nsw = collections.Counter(all_words_nsw)\n",
    "\n",
    "    count = counts_nsw.most_common(100)\n",
    "\n",
    "    return count\n",
    "\n",
    "num_palabras(sanchezcastejon)"
   ]
  },
  {
   "cell_type": "code",
   "execution_count": null,
   "metadata": {},
   "outputs": [],
   "source": [
    "num_palabras(santi_abascal)"
   ]
  },
  {
   "cell_type": "code",
   "execution_count": null,
   "metadata": {
    "scrolled": true
   },
   "outputs": [],
   "source": [
    "num_palabras(pablo_iglesias)"
   ]
  },
  {
   "cell_type": "code",
   "execution_count": null,
   "metadata": {},
   "outputs": [],
   "source": [
    "num_palabras(albert_rivera)"
   ]
  },
  {
   "cell_type": "code",
   "execution_count": null,
   "metadata": {},
   "outputs": [],
   "source": [
    "num_palabras(inesarrimadas)"
   ]
  },
  {
   "cell_type": "code",
   "execution_count": null,
   "metadata": {},
   "outputs": [],
   "source": [
    "num_palabras(pablocasado)"
   ]
  },
  {
   "cell_type": "code",
   "execution_count": null,
   "metadata": {},
   "outputs": [],
   "source": [
    "num_palabras(irenemontero)"
   ]
  },
  {
   "cell_type": "code",
   "execution_count": null,
   "metadata": {},
   "outputs": [],
   "source": [
    "num_palabras(carmencalvo)"
   ]
  },
  {
   "cell_type": "code",
   "execution_count": null,
   "metadata": {},
   "outputs": [],
   "source": [
    "num_palabras(cayetanaat)"
   ]
  },
  {
   "cell_type": "code",
   "execution_count": null,
   "metadata": {},
   "outputs": [],
   "source": [
    "num_palabras(monasterior)"
   ]
  },
  {
   "cell_type": "markdown",
   "metadata": {},
   "source": [
    "Filtramos los tweets escritos por los distintos politicos y obtenemos el número de tweets escritos y las palabras más frecuentes."
   ]
  },
  {
   "cell_type": "code",
   "execution_count": null,
   "metadata": {},
   "outputs": [],
   "source": [
    "col_3_sanchezcastejon = tweets.loc[tweets['col3'] == \"@sanchezcastejon\"]\n",
    "col_3_santi_abascal = tweets.loc[tweets['col3'] == \"@Santi_ABASCAL\"]\n",
    "col_3_pablo_iglesias = tweets.loc[tweets['col3'] == \"@Pablo_Iglesias_\"] \n",
    "col_3_albert_rivera = tweets.loc[tweets['col3'] == \"@Albert_Rivera\"]                            \n",
    "col_3_inesarrimadas = tweets.loc[tweets['col3'] == \"@InesArrimadas\"]                       \n",
    "col_3_pablocasado = tweets.loc[tweets['col3'] == \"@pablocasado_\"]                             \n",
    "col_3_irene_montero = tweets.loc[tweets['col3'] == \"@Irene_Montero_\"]                             \n",
    "col_3_carmencalvo = tweets.loc[tweets['col3'] == \"@carmencalvo_\"]                          \n",
    "col_3_cayetanaat = tweets.loc[tweets['col3'] == \"@cayetanaAT\"]                               \n",
    "col_3_monasterior = tweets.loc[tweets['col3'] == \"@monasterioR\"]"
   ]
  },
  {
   "cell_type": "code",
   "execution_count": null,
   "metadata": {},
   "outputs": [],
   "source": [
    "print(col_3_sanchezcastejon.col3.count())\n",
    "num_palabras(col_3_sanchezcastejon)"
   ]
  },
  {
   "cell_type": "code",
   "execution_count": null,
   "metadata": {},
   "outputs": [],
   "source": [
    "print(col_3_santi_abascal.col3.count())\n",
    "num_palabras(col_3_santi_abascal)"
   ]
  },
  {
   "cell_type": "code",
   "execution_count": null,
   "metadata": {},
   "outputs": [],
   "source": [
    "print(col_3_pablo_iglesias.col3.count())\n",
    "num_palabras(col_3_pablo_iglesias)"
   ]
  },
  {
   "cell_type": "code",
   "execution_count": null,
   "metadata": {},
   "outputs": [],
   "source": [
    "print(col_3_albert_rivera.col3.count())\n",
    "num_palabras(col_3_albert_rivera)"
   ]
  },
  {
   "cell_type": "code",
   "execution_count": null,
   "metadata": {},
   "outputs": [],
   "source": [
    "print(col_3_inesarrimadas.col3.count())\n",
    "num_palabras(col_3_inesarrimadas)"
   ]
  },
  {
   "cell_type": "code",
   "execution_count": null,
   "metadata": {},
   "outputs": [],
   "source": [
    "print(col_3_pablocasado.col3.count())\n",
    "num_palabras(col_3_pablocasado)"
   ]
  },
  {
   "cell_type": "code",
   "execution_count": null,
   "metadata": {},
   "outputs": [],
   "source": [
    "print(col_3_irene_montero.col3.count())\n",
    "num_palabras(col_3_irene_montero)"
   ]
  },
  {
   "cell_type": "code",
   "execution_count": null,
   "metadata": {},
   "outputs": [],
   "source": [
    "print(col_3_carmencalvo.col3.count())\n",
    "num_palabras(col_3_carmencalvo)"
   ]
  },
  {
   "cell_type": "code",
   "execution_count": null,
   "metadata": {},
   "outputs": [],
   "source": [
    "print(col_3_cayetanaat.col3.count())\n",
    "num_palabras(col_3_cayetanaat)"
   ]
  },
  {
   "cell_type": "code",
   "execution_count": null,
   "metadata": {},
   "outputs": [],
   "source": [
    "print(col_3_monasterior.col3.count())\n",
    "num_palabras(col_3_monasterior)"
   ]
  },
  {
   "cell_type": "markdown",
   "metadata": {},
   "source": [
    "Filtrar los que son RT, obtener palabras más frecuentes tanto  RT en general, como por dirigido a politico y escrito por poltico. "
   ]
  },
  {
   "cell_type": "code",
   "execution_count": null,
   "metadata": {
    "scrolled": true
   },
   "outputs": [],
   "source": [
    "RT = tweets.loc[tweets['RT'] == '1']"
   ]
  },
  {
   "cell_type": "code",
   "execution_count": null,
   "metadata": {
    "scrolled": true
   },
   "outputs": [],
   "source": [
    "num_palabras(RT)"
   ]
  },
  {
   "cell_type": "markdown",
   "metadata": {},
   "source": [
    "Filtramos aquellos tweets que son RT DIRIGIDOS a politicos y obtenemos la frecuencia de palabras."
   ]
  },
  {
   "cell_type": "code",
   "execution_count": null,
   "metadata": {},
   "outputs": [],
   "source": [
    "RT_sanchezcastejon = RT.loc[RT['Dir'] == \"sanchezcastejon\"]\n",
    "RT_santi_abascal = RT.loc[RT['Dir'] == \"santi abascal\"]\n",
    "RT_pablo_iglesias = RT.loc[RT['Dir'] == \"pablo iglesias\"] \n",
    "RT_albert_rivera = RT.loc[RT['Dir'] == \"albert rivera\"]                            \n",
    "RT_inesarrimadas = RT.loc[RT['Dir'] == \"inesarrimadas\"]                       \n",
    "RT_pablocasado = RT.loc[RT['Dir'] == \"pablocasado\"]                             \n",
    "RT_irenemontero = RT.loc[RT['Dir'] == \"irene montero\"]                             \n",
    "RT_carmencalvo = RT.loc[RT['Dir'] == \"carmencalvo\"]                          \n",
    "RT_cayetanaat = RT.loc[RT['Dir'] == \"cayetanaat\"]                               \n",
    "RT_monasterior = RT.loc[RT['Dir'] == \"monasterior\"]"
   ]
  },
  {
   "cell_type": "code",
   "execution_count": null,
   "metadata": {},
   "outputs": [],
   "source": [
    "num_palabras(RT_sanchezcastejon)"
   ]
  },
  {
   "cell_type": "code",
   "execution_count": null,
   "metadata": {},
   "outputs": [],
   "source": [
    "num_palabras(RT_santi_abascal)"
   ]
  },
  {
   "cell_type": "code",
   "execution_count": null,
   "metadata": {},
   "outputs": [],
   "source": [
    "num_palabras(RT_pablo_iglesias)"
   ]
  },
  {
   "cell_type": "code",
   "execution_count": null,
   "metadata": {},
   "outputs": [],
   "source": [
    "num_palabras(RT_albert_rivera)"
   ]
  },
  {
   "cell_type": "code",
   "execution_count": null,
   "metadata": {},
   "outputs": [],
   "source": [
    "num_palabras(RT_inesarrimadas)"
   ]
  },
  {
   "cell_type": "code",
   "execution_count": null,
   "metadata": {},
   "outputs": [],
   "source": [
    "num_palabras(RT_pablocasado)"
   ]
  },
  {
   "cell_type": "code",
   "execution_count": null,
   "metadata": {},
   "outputs": [],
   "source": [
    "num_palabras(RT_irenemontero)"
   ]
  },
  {
   "cell_type": "code",
   "execution_count": null,
   "metadata": {},
   "outputs": [],
   "source": [
    "num_palabras(RT_carmencalvo)"
   ]
  },
  {
   "cell_type": "code",
   "execution_count": null,
   "metadata": {},
   "outputs": [],
   "source": [
    "num_palabras(RT_cayetanaat)"
   ]
  },
  {
   "cell_type": "code",
   "execution_count": null,
   "metadata": {},
   "outputs": [],
   "source": [
    "num_palabras(RT_monasterior)"
   ]
  },
  {
   "cell_type": "markdown",
   "metadata": {},
   "source": [
    "Filtramos aquellos tweets que son RT ESCRITOS por politicos y obtenemos la frecuencia de palabras."
   ]
  },
  {
   "cell_type": "code",
   "execution_count": null,
   "metadata": {},
   "outputs": [],
   "source": [
    "RT_col_3_sanchezcastejon = RT.loc[RT['col3'] == \"@sanchezcastejon\"]\n",
    "RT_col_3_santi_abascal = RT.loc[RT['col3'] == \"@Santi_ABASCAL\"]\n",
    "RT_col_3_pablo_iglesias = RT.loc[RT['col3'] == \"@Pablo_Iglesias_\"] \n",
    "RT_col_3_albert_rivera = RT.loc[RT['col3'] == \"@Albert_Rivera\"]                            \n",
    "RT_col_3_inesarrimadas = RT.loc[RT['col3'] == \"@InesArrimadas\"]                       \n",
    "RT_col_3_pablocasado = RT.loc[RT['col3'] == \"@pablocasado_\"]                             \n",
    "RT_col_3_irene_montero = RT.loc[RT['col3'] == \"@Irene_Montero_\"]                             \n",
    "RT_col_3_carmencalvo = RT.loc[RT['col3'] == \"@carmencalvo_\"]                          \n",
    "RT_col_3_cayetanaat = RT.loc[RT['col3'] == \"@cayetanaAT\"]                               \n",
    "RT_col_3_monasterior = RT.loc[RT['col3'] == \"@monasterioR\"]"
   ]
  },
  {
   "cell_type": "code",
   "execution_count": null,
   "metadata": {},
   "outputs": [],
   "source": [
    "num_palabras(RT_col_3_sanchezcastejon)"
   ]
  },
  {
   "cell_type": "code",
   "execution_count": null,
   "metadata": {},
   "outputs": [],
   "source": [
    "num_palabras(RT_col_3_santi_abascal)"
   ]
  },
  {
   "cell_type": "code",
   "execution_count": null,
   "metadata": {
    "scrolled": true
   },
   "outputs": [],
   "source": [
    "num_palabras(RT_col_3_pablo_iglesias)"
   ]
  },
  {
   "cell_type": "code",
   "execution_count": null,
   "metadata": {},
   "outputs": [],
   "source": [
    "num_palabras(RT_col_3_albert_rivera)"
   ]
  },
  {
   "cell_type": "code",
   "execution_count": null,
   "metadata": {},
   "outputs": [],
   "source": [
    "num_palabras(RT_col_3_inesarrimadas)"
   ]
  },
  {
   "cell_type": "code",
   "execution_count": null,
   "metadata": {},
   "outputs": [],
   "source": [
    "num_palabras(RT_col_3_pablocasado)"
   ]
  },
  {
   "cell_type": "code",
   "execution_count": null,
   "metadata": {},
   "outputs": [],
   "source": [
    "num_palabras(RT_col_3_irene_montero)"
   ]
  },
  {
   "cell_type": "code",
   "execution_count": null,
   "metadata": {},
   "outputs": [],
   "source": [
    "num_palabras(RT_col_3_carmencalvo)"
   ]
  },
  {
   "cell_type": "code",
   "execution_count": null,
   "metadata": {},
   "outputs": [],
   "source": [
    "num_palabras(RT_col_3_cayetanaat)"
   ]
  },
  {
   "cell_type": "code",
   "execution_count": null,
   "metadata": {},
   "outputs": [],
   "source": [
    "num_palabras(RT_col_3_monasterior)"
   ]
  },
  {
   "cell_type": "markdown",
   "metadata": {},
   "source": [
    "Organizar tweets quincenalmente (hay más particiones), obtención de palabras más habituales en los distintos periodos tanto de tweets dirigidos como escritos a los distintos politicos.\n",
    "Se puede observar la evolución.\n",
    "Grupo por politico y por tiempo"
   ]
  },
  {
   "cell_type": "code",
   "execution_count": null,
   "metadata": {},
   "outputs": [],
   "source": [
    "# Select observations between two datetimes\n",
    "julio=tweets[(tweets['Fecha'] > '2019-07-05') & (tweets['Fecha'] <= '2019-08-05')]"
   ]
  },
  {
   "cell_type": "code",
   "execution_count": null,
   "metadata": {},
   "outputs": [],
   "source": [
    "agosto=tweets[(tweets['Fecha'] > '2019-08-05') & (tweets['Fecha'] <= '2019-09-12')]"
   ]
  },
  {
   "cell_type": "code",
   "execution_count": null,
   "metadata": {},
   "outputs": [],
   "source": [
    "Semana1=tweets[(tweets['Fecha'] > '2019-07-05') & (tweets['Fecha'] <= '2019-07-12')]"
   ]
  },
  {
   "cell_type": "code",
   "execution_count": null,
   "metadata": {},
   "outputs": [],
   "source": [
    "Semana2=tweets[(tweets['Fecha'] > '2019-07-12') & (tweets['Fecha'] <= '2019-07-19')]"
   ]
  },
  {
   "cell_type": "code",
   "execution_count": null,
   "metadata": {},
   "outputs": [],
   "source": [
    "Semana3=tweets[(tweets['Fecha'] > '2019-07-19') & (tweets['Fecha'] <= '2019-07-26')]"
   ]
  },
  {
   "cell_type": "code",
   "execution_count": null,
   "metadata": {},
   "outputs": [],
   "source": [
    "Semana4=tweets[(tweets['Fecha'] > '2019-07-26') & (tweets['Fecha'] <= '2019-08-02')]"
   ]
  },
  {
   "cell_type": "code",
   "execution_count": null,
   "metadata": {},
   "outputs": [],
   "source": [
    "Semana5=tweets[(tweets['Fecha'] > '2019-08-02') & (tweets['Fecha'] <= '2019-08-09')]"
   ]
  },
  {
   "cell_type": "code",
   "execution_count": null,
   "metadata": {},
   "outputs": [],
   "source": [
    "Semana6=tweets[(tweets['Fecha'] > '2019-08-09') & (tweets['Fecha'] <= '2019-08-16')]"
   ]
  },
  {
   "cell_type": "code",
   "execution_count": null,
   "metadata": {},
   "outputs": [],
   "source": [
    "Semana7=tweets[(tweets['Fecha'] > '2019-08-16') & (tweets['Fecha'] <= '2019-08-23')]"
   ]
  },
  {
   "cell_type": "code",
   "execution_count": null,
   "metadata": {},
   "outputs": [],
   "source": [
    "Semana8=tweets[(tweets['Fecha'] > '2019-08-23') & (tweets['Fecha'] <= '2019-08-30')]"
   ]
  },
  {
   "cell_type": "code",
   "execution_count": null,
   "metadata": {},
   "outputs": [],
   "source": [
    "Semana9=tweets[(tweets['Fecha'] > '2019-08-30') & (tweets['Fecha'] <= '2019-09-06')]"
   ]
  },
  {
   "cell_type": "code",
   "execution_count": null,
   "metadata": {},
   "outputs": [],
   "source": [
    "Semana10=tweets[(tweets['Fecha'] > '2019-09-06') & (tweets['Fecha'] <= '2019-09-12')]"
   ]
  },
  {
   "cell_type": "code",
   "execution_count": null,
   "metadata": {},
   "outputs": [],
   "source": [
    "primera15=tweets[(tweets['Fecha'] > '2019-07-05') & (tweets['Fecha'] <= '2019-07-19')]"
   ]
  },
  {
   "cell_type": "code",
   "execution_count": null,
   "metadata": {},
   "outputs": [],
   "source": [
    "segunda15=tweets[(tweets['Fecha'] > '2019-07-19') & (tweets['Fecha'] <= '2019-08-02')]"
   ]
  },
  {
   "cell_type": "code",
   "execution_count": null,
   "metadata": {},
   "outputs": [],
   "source": [
    "tercera15=tweets[(tweets['Fecha'] > '2019-08-02') & (tweets['Fecha'] <= '2019-08-16')]"
   ]
  },
  {
   "cell_type": "code",
   "execution_count": null,
   "metadata": {},
   "outputs": [],
   "source": [
    "cuarta15=tweets[(tweets['Fecha'] > '2019-08-16') & (tweets['Fecha'] <= '2019-08-30')]"
   ]
  },
  {
   "cell_type": "code",
   "execution_count": null,
   "metadata": {},
   "outputs": [],
   "source": [
    "quinta15=tweets[(tweets['Fecha'] > '2019-08-30') & (tweets['Fecha'] <= '2019-09-12')]"
   ]
  },
  {
   "cell_type": "code",
   "execution_count": null,
   "metadata": {},
   "outputs": [],
   "source": [
    "primera15_sanchezcastejon = primera15.loc[primera15['Dir'] == \"sanchezcastejon\"]\n",
    "primera15_santi_abascal = primera15.loc[primera15['Dir'] == \"santi abascal\"]\n",
    "primera15_pablo_iglesias = primera15.loc[primera15['Dir'] == \"pablo iglesias\"] \n",
    "primera15_albert_rivera = primera15.loc[primera15['Dir'] == \"albert rivera\"]                            \n",
    "primera15_inesarrimadas = primera15.loc[primera15['Dir'] == \"inesarrimadas\"]                       \n",
    "primera15_pablocasado = primera15.loc[primera15['Dir'] == \"pablocasado\"]                             \n",
    "primera15_irenemontero = primera15.loc[primera15['Dir'] == \"irene montero\"]                             \n",
    "primera15_carmencalvo = primera15.loc[primera15['Dir'] == \"carmencalvo\"]                          \n",
    "primera15_cayetanaat = primera15.loc[primera15['Dir'] == \"cayetanaat\"]                               \n",
    "primera15_monasterior = primera15.loc[primera15['Dir'] == \"monasterior\"]"
   ]
  },
  {
   "cell_type": "code",
   "execution_count": null,
   "metadata": {},
   "outputs": [],
   "source": [
    "primera15_col_3_sanchezcastejon = primera15.loc[primera15['col3'] == \"@sanchezcastejon\"]\n",
    "primera15_col_3_santi_abascal = primera15.loc[primera15['col3'] == \"@Santi_ABASCAL\"]\n",
    "primera15_col_3_pablo_iglesias = primera15.loc[primera15['col3'] == \"@Pablo_Iglesias_\"] \n",
    "primera15_col_3_albert_rivera = primera15.loc[primera15['col3'] == \"@Albert_Rivera\"]                            \n",
    "primera15_col_3_inesarrimadas = primera15.loc[primera15['col3'] == \"@InesArrimadas\"]                       \n",
    "primera15_col_3_pablocasado = primera15.loc[primera15['col3'] == \"@pablocasado_\"]                             \n",
    "primera15_col_3_irene_montero = primera15.loc[primera15['col3'] == \"@Irene_Montero_\"]                             \n",
    "primera15_col_3_carmencalvo = primera15.loc[primera15['col3'] == \"@carmencalvo_\"]                          \n",
    "primera15_col_3_cayetanaat = primera15.loc[primera15['col3'] == \"@cayetanaAT\"]                               \n",
    "primera15_col_3_monasterior = primera15.loc[primera15['col3'] == \"@monasterioR\"]"
   ]
  },
  {
   "cell_type": "code",
   "execution_count": null,
   "metadata": {},
   "outputs": [],
   "source": [
    "segunda15_sanchezcastejon = segunda15.loc[segunda15['Dir'] == \"sanchezcastejon\"]\n",
    "segunda15_santi_abascal = segunda15.loc[segunda15['Dir'] == \"santi abascal\"]\n",
    "segunda15_pablo_iglesias = segunda15.loc[segunda15['Dir'] == \"pablo iglesias\"] \n",
    "segunda15_albert_rivera = segunda15.loc[segunda15['Dir'] == \"albert rivera\"]                            \n",
    "segunda15_inesarrimadas = segunda15.loc[segunda15['Dir'] == \"inesarrimadas\"]                       \n",
    "segunda15_pablocasado = segunda15.loc[segunda15['Dir'] == \"pablocasado\"]                             \n",
    "segunda15_irenemontero = segunda15.loc[segunda15['Dir'] == \"irene montero\"]                             \n",
    "segunda15_carmencalvo = segunda15.loc[segunda15['Dir'] == \"carmencalvo\"]                          \n",
    "segunda15_cayetanaat = segunda15.loc[segunda15['Dir'] == \"cayetanaat\"]                               \n",
    "segunda15_monasterior = segunda15.loc[segunda15['Dir'] == \"monasterior\"]"
   ]
  },
  {
   "cell_type": "code",
   "execution_count": null,
   "metadata": {},
   "outputs": [],
   "source": [
    "segunda15_col_3_sanchezcastejon = segunda15.loc[segunda15['col3'] == \"@sanchezcastejon\"]\n",
    "segunda15_col_3_santi_abascal = segunda15.loc[segunda15['col3'] == \"@Santi_ABASCAL\"]\n",
    "segunda15_col_3_pablo_iglesias = segunda15.loc[segunda15['col3'] == \"@Pablo_Iglesias_\"] \n",
    "segunda15_col_3_albert_rivera = segunda15.loc[segunda15['col3'] == \"@Albert_Rivera\"]                            \n",
    "segunda15_col_3_inesarrimadas = segunda15.loc[segunda15['col3'] == \"@InesArrimadas\"]                       \n",
    "segunda15_col_3_pablocasado = segunda15.loc[segunda15['col3'] == \"@pablocasado_\"]                             \n",
    "segunda15_col_3_irene_montero = segunda15.loc[segunda15['col3'] == \"@Irene_Montero_\"]                             \n",
    "segunda15_col_3_carmencalvo = segunda15.loc[segunda15['col3'] == \"@carmencalvo_\"]                          \n",
    "segunda15_col_3_cayetanaat = segunda15.loc[segunda15['col3'] == \"@cayetanaAT\"]                               \n",
    "segunda15_col_3_monasterior = segunda15.loc[segunda15['col3'] == \"@monasterioR\"]"
   ]
  },
  {
   "cell_type": "code",
   "execution_count": null,
   "metadata": {},
   "outputs": [],
   "source": [
    "tercera15_sanchezcastejon = tercera15.loc[tercera15['Dir'] == \"sanchezcastejon\"]\n",
    "tercera15_santi_abascal = tercera15.loc[tercera15['Dir'] == \"santi abascal\"]\n",
    "tercera15_pablo_iglesias = tercera15.loc[tercera15['Dir'] == \"pablo iglesias\"] \n",
    "tercera15_albert_rivera = tercera15.loc[tercera15['Dir'] == \"albert rivera\"]                            \n",
    "tercera15_inesarrimadas = tercera15.loc[tercera15['Dir'] == \"inesarrimadas\"]                       \n",
    "tercera15_pablocasado = tercera15.loc[tercera15['Dir'] == \"pablocasado\"]                             \n",
    "tercera15_irenemontero = tercera15.loc[tercera15['Dir'] == \"irene montero\"]                             \n",
    "tercera15_carmencalvo = tercera15.loc[tercera15['Dir'] == \"carmencalvo\"]                          \n",
    "tercera15_cayetanaat = tercera15.loc[tercera15['Dir'] == \"cayetanaat\"]                               \n",
    "tercera15_monasterior = tercera15.loc[tercera15['Dir'] == \"monasterior\"]"
   ]
  },
  {
   "cell_type": "code",
   "execution_count": null,
   "metadata": {},
   "outputs": [],
   "source": [
    "tercera15_col_3_sanchezcastejon = tercera15.loc[tercera15['col3'] == \"@sanchezcastejon\"]\n",
    "tercera15_col_3_santi_abascal = tercera15.loc[tercera15['col3'] == \"@Santi_ABASCAL\"]\n",
    "tercera15_col_3_pablo_iglesias = tercera15.loc[tercera15['col3'] == \"@Pablo_Iglesias_\"] \n",
    "tercera15_col_3_albert_rivera = tercera15.loc[tercera15['col3'] == \"@Albert_Rivera\"]                            \n",
    "tercera15_col_3_inesarrimadas = tercera15.loc[tercera15['col3'] == \"@InesArrimadas\"]                       \n",
    "tercera15_col_3_pablocasado = tercera15.loc[tercera15['col3'] == \"@pablocasado_\"]                             \n",
    "tercera15_col_3_irene_montero = tercera15.loc[tercera15['col3'] == \"@Irene_Montero_\"]                             \n",
    "tercera15_col_3_carmencalvo = tercera15.loc[tercera15['col3'] == \"@carmencalvo_\"]                          \n",
    "tercera15_col_3_cayetanaat = tercera15.loc[tercera15['col3'] == \"@cayetanaAT\"]                               \n",
    "tercera15_col_3_monasterior = tercera15.loc[tercera15['col3'] == \"@monasterioR\"]"
   ]
  },
  {
   "cell_type": "code",
   "execution_count": null,
   "metadata": {},
   "outputs": [],
   "source": [
    "cuarta15_sanchezcastejon = cuarta15.loc[cuarta15['Dir'] == \"sanchezcastejon\"]\n",
    "cuarta15_santi_abascal = cuarta15.loc[cuarta15['Dir'] == \"santi abascal\"]\n",
    "cuarta15_pablo_iglesias = cuarta15.loc[cuarta15['Dir'] == \"pablo iglesias\"] \n",
    "cuarta15_albert_rivera = cuarta15.loc[cuarta15['Dir'] == \"albert rivera\"]                            \n",
    "cuarta15_inesarrimadas = cuarta15.loc[cuarta15['Dir'] == \"inesarrimadas\"]                       \n",
    "cuarta15_pablocasado = cuarta15.loc[cuarta15['Dir'] == \"pablocasado\"]                             \n",
    "cuarta15_irenemontero = cuarta15.loc[cuarta15['Dir'] == \"irene montero\"]                             \n",
    "cuarta15_carmencalvo = cuarta15.loc[cuarta15['Dir'] == \"carmencalvo\"]                          \n",
    "cuarta15_cayetanaat = cuarta15.loc[cuarta15['Dir'] == \"cayetanaat\"]                               \n",
    "cuarta15_monasterior = cuarta15.loc[cuarta15['Dir'] == \"monasterior\"]"
   ]
  },
  {
   "cell_type": "code",
   "execution_count": null,
   "metadata": {},
   "outputs": [],
   "source": [
    "cuarta15_col_3_sanchezcastejon = cuarta15.loc[cuarta15['col3'] == \"@sanchezcastejon\"]\n",
    "cuarta15_col_3_santi_abascal = cuarta15.loc[cuarta15['col3'] == \"@Santi_ABASCAL\"]\n",
    "cuarta15_col_3_pablo_iglesias = cuarta15.loc[cuarta15['col3'] == \"@Pablo_Iglesias_\"] \n",
    "cuarta15_col_3_albert_rivera = cuarta15.loc[cuarta15['col3'] == \"@Albert_Rivera\"]                            \n",
    "cuarta15_col_3_inesarrimadas = cuarta15.loc[cuarta15['col3'] == \"@InesArrimadas\"]                       \n",
    "cuarta15_col_3_pablocasado = cuarta15.loc[cuarta15['col3'] == \"@pablocasado_\"]                             \n",
    "cuarta15_col_3_irene_montero = cuarta15.loc[cuarta15['col3'] == \"@Irene_Montero_\"]                             \n",
    "cuarta15_col_3_carmencalvo = cuarta15.loc[cuarta15['col3'] == \"@carmencalvo_\"]                          \n",
    "cuarta15_col_3_cayetanaat = cuarta15.loc[cuarta15['col3'] == \"@cayetanaAT\"]                               \n",
    "cuarta15_col_3_monasterior = cuarta15.loc[cuarta15['col3'] == \"@monasterioR\"]"
   ]
  },
  {
   "cell_type": "code",
   "execution_count": null,
   "metadata": {},
   "outputs": [],
   "source": [
    "quinta15_sanchezcastejon = quinta15.loc[quinta15['Dir'] == \"sanchezcastejon\"]\n",
    "quinta15_santi_abascal = quinta15.loc[quinta15['Dir'] == \"santi abascal\"]\n",
    "quinta15_pablo_iglesias = quinta15.loc[quinta15['Dir'] == \"pablo iglesias\"] \n",
    "quinta15_albert_rivera = quinta15.loc[quinta15['Dir'] == \"albert rivera\"]                            \n",
    "quinta15_inesarrimadas = quinta15.loc[quinta15['Dir'] == \"inesarrimadas\"]                       \n",
    "quinta15_pablocasado = quinta15.loc[quinta15['Dir'] == \"pablocasado\"]                             \n",
    "quinta15_irenemontero = quinta15.loc[quinta15['Dir'] == \"irene montero\"]                             \n",
    "quinta15_carmencalvo = quinta15.loc[quinta15['Dir'] == \"carmencalvo\"]                          \n",
    "quinta15_cayetanaat = quinta15.loc[quinta15['Dir'] == \"cayetanaat\"]                               \n",
    "quinta15_monasterior = quinta15.loc[quinta15['Dir'] == \"monasterior\"]"
   ]
  },
  {
   "cell_type": "code",
   "execution_count": null,
   "metadata": {},
   "outputs": [],
   "source": [
    "quinta15_col_3_sanchezcastejon = quinta15.loc[quinta15['col3'] == \"@sanchezcastejon\"]\n",
    "quinta15_col_3_santi_abascal = quinta15.loc[quinta15['col3'] == \"@Santi_ABASCAL\"]\n",
    "quinta15_col_3_pablo_iglesias = quinta15.loc[quinta15['col3'] == \"@Pablo_Iglesias_\"] \n",
    "quinta15_col_3_albert_rivera = quinta15.loc[quinta15['col3'] == \"@Albert_Rivera\"]                            \n",
    "quinta15_col_3_inesarrimadas = quinta15.loc[quinta15['col3'] == \"@InesArrimadas\"]                       \n",
    "quinta15_col_3_pablocasado = quinta15.loc[quinta15['col3'] == \"@pablocasado_\"]                             \n",
    "quinta15_col_3_irene_montero = quinta15.loc[quinta15['col3'] == \"@Irene_Montero_\"]                             \n",
    "quinta15_col_3_carmencalvo = quinta15.loc[quinta15['col3'] == \"@carmencalvo_\"]                          \n",
    "quinta15_col_3_cayetanaat = quinta15.loc[quinta15['col3'] == \"@cayetanaAT\"]                               \n",
    "quinta15_col_3_monasterior = quinta15.loc[quinta15['col3'] == \"@monasterioR\"]"
   ]
  },
  {
   "cell_type": "markdown",
   "metadata": {},
   "source": [
    "Como son muchas listas he reducido el número de palabras a 20."
   ]
  },
  {
   "cell_type": "code",
   "execution_count": null,
   "metadata": {},
   "outputs": [],
   "source": [
    "def num_palabras20(politico):\n",
    "    tokenized_tweet = politico['tweet'].apply(lambda x: x.split())\n",
    "\n",
    "    tokenized_tweet=remove_stopwords(tokenized_tweet)\n",
    "\n",
    "    tweets_nsw = [[word for word in words_in if not word in stop_words_mak]\n",
    "              for words_in in tokenized_tweet]\n",
    "\n",
    "    all_words_nsw = list(itertools.chain(*tweets_nsw)) # tokenized_tweet\n",
    "\n",
    "    counts_nsw = collections.Counter(all_words_nsw)\n",
    "\n",
    "    count = counts_nsw.most_common(20)\n",
    "\n",
    "    return count"
   ]
  },
  {
   "cell_type": "code",
   "execution_count": null,
   "metadata": {},
   "outputs": [],
   "source": [
    "num_palabras20(primera15_sanchezcastejon)"
   ]
  },
  {
   "cell_type": "code",
   "execution_count": null,
   "metadata": {},
   "outputs": [],
   "source": [
    "num_palabras20(segunda15_sanchezcastejon)"
   ]
  },
  {
   "cell_type": "code",
   "execution_count": null,
   "metadata": {},
   "outputs": [],
   "source": [
    "num_palabras20(tercera15_sanchezcastejon)"
   ]
  },
  {
   "cell_type": "code",
   "execution_count": null,
   "metadata": {},
   "outputs": [],
   "source": [
    "num_palabras20(cuarta15_sanchezcastejon)"
   ]
  },
  {
   "cell_type": "code",
   "execution_count": null,
   "metadata": {},
   "outputs": [],
   "source": [
    "num_palabras20(quinta15_sanchezcastejon)"
   ]
  },
  {
   "cell_type": "code",
   "execution_count": null,
   "metadata": {},
   "outputs": [],
   "source": [
    "num_palabras20(primera15_col_3_sanchezcastejon)"
   ]
  },
  {
   "cell_type": "code",
   "execution_count": null,
   "metadata": {},
   "outputs": [],
   "source": [
    "num_palabras20(segunda15_col_3_sanchezcastejon)"
   ]
  },
  {
   "cell_type": "code",
   "execution_count": null,
   "metadata": {},
   "outputs": [],
   "source": [
    "num_palabras20(tercera15_col_3_sanchezcastejon)"
   ]
  },
  {
   "cell_type": "code",
   "execution_count": null,
   "metadata": {},
   "outputs": [],
   "source": [
    "num_palabras20(cuarta15_col_3_sanchezcastejon)"
   ]
  },
  {
   "cell_type": "code",
   "execution_count": null,
   "metadata": {},
   "outputs": [],
   "source": [
    "num_palabras20(quinta15_col_3_sanchezcastejon)"
   ]
  },
  {
   "cell_type": "code",
   "execution_count": null,
   "metadata": {},
   "outputs": [],
   "source": [
    "num_palabras20(primera15_santi_abascal)"
   ]
  },
  {
   "cell_type": "code",
   "execution_count": null,
   "metadata": {},
   "outputs": [],
   "source": [
    "num_palabras20(segunda15_santi_abascal)"
   ]
  },
  {
   "cell_type": "code",
   "execution_count": null,
   "metadata": {},
   "outputs": [],
   "source": [
    "num_palabras20(tercera15_santi_abascal)"
   ]
  },
  {
   "cell_type": "code",
   "execution_count": null,
   "metadata": {},
   "outputs": [],
   "source": [
    "num_palabras20(cuarta15_santi_abascal)"
   ]
  },
  {
   "cell_type": "code",
   "execution_count": null,
   "metadata": {},
   "outputs": [],
   "source": [
    "num_palabras20(quinta15_santi_abascal)"
   ]
  },
  {
   "cell_type": "code",
   "execution_count": null,
   "metadata": {},
   "outputs": [],
   "source": [
    "num_palabras20(primera15_col_3_santi_abascal)"
   ]
  },
  {
   "cell_type": "code",
   "execution_count": null,
   "metadata": {},
   "outputs": [],
   "source": [
    "num_palabras20(segunda15_col_3_santi_abascal)"
   ]
  },
  {
   "cell_type": "code",
   "execution_count": null,
   "metadata": {},
   "outputs": [],
   "source": [
    "num_palabras20(tercera15_col_3_santi_abascal)"
   ]
  },
  {
   "cell_type": "code",
   "execution_count": null,
   "metadata": {},
   "outputs": [],
   "source": [
    "num_palabras20(cuarta15_col_3_santi_abascal)"
   ]
  },
  {
   "cell_type": "code",
   "execution_count": null,
   "metadata": {},
   "outputs": [],
   "source": [
    "num_palabras20(quinta15_col_3_santi_abascal)"
   ]
  },
  {
   "cell_type": "code",
   "execution_count": null,
   "metadata": {},
   "outputs": [],
   "source": []
  },
  {
   "cell_type": "code",
   "execution_count": null,
   "metadata": {},
   "outputs": [],
   "source": [
    "num_palabras20(primera15_pablo_iglesias)"
   ]
  },
  {
   "cell_type": "code",
   "execution_count": null,
   "metadata": {},
   "outputs": [],
   "source": [
    "num_palabras20(segunda15_pablo_iglesias)"
   ]
  },
  {
   "cell_type": "code",
   "execution_count": null,
   "metadata": {},
   "outputs": [],
   "source": [
    "num_palabras20(tercera15_pablo_iglesias)"
   ]
  },
  {
   "cell_type": "code",
   "execution_count": null,
   "metadata": {},
   "outputs": [],
   "source": [
    "num_palabras20(cuarta15_pablo_iglesias)"
   ]
  },
  {
   "cell_type": "code",
   "execution_count": null,
   "metadata": {},
   "outputs": [],
   "source": [
    "num_palabras20(quinta15_pablo_iglesias)"
   ]
  },
  {
   "cell_type": "code",
   "execution_count": null,
   "metadata": {},
   "outputs": [],
   "source": [
    "num_palabras20(primera15_col_3_pablo_iglesias)"
   ]
  },
  {
   "cell_type": "code",
   "execution_count": null,
   "metadata": {},
   "outputs": [],
   "source": [
    "num_palabras20(segunda15_col_3_pablo_iglesias)"
   ]
  },
  {
   "cell_type": "code",
   "execution_count": null,
   "metadata": {},
   "outputs": [],
   "source": [
    "num_palabras20(tercera15_col_3_pablo_iglesias)"
   ]
  },
  {
   "cell_type": "code",
   "execution_count": null,
   "metadata": {},
   "outputs": [],
   "source": [
    "num_palabras20(cuarta15_col_3_pablo_iglesias)"
   ]
  },
  {
   "cell_type": "code",
   "execution_count": null,
   "metadata": {},
   "outputs": [],
   "source": [
    "num_palabras20(quinta15_col_3_pablo_iglesias)"
   ]
  },
  {
   "cell_type": "code",
   "execution_count": null,
   "metadata": {},
   "outputs": [],
   "source": []
  },
  {
   "cell_type": "code",
   "execution_count": null,
   "metadata": {},
   "outputs": [],
   "source": [
    "num_palabras20(primera15_albert_rivera)"
   ]
  },
  {
   "cell_type": "code",
   "execution_count": null,
   "metadata": {},
   "outputs": [],
   "source": [
    "num_palabras20(segunda15_albert_rivera)"
   ]
  },
  {
   "cell_type": "code",
   "execution_count": null,
   "metadata": {},
   "outputs": [],
   "source": [
    "num_palabras20(tercera15_albert_rivera)"
   ]
  },
  {
   "cell_type": "code",
   "execution_count": null,
   "metadata": {},
   "outputs": [],
   "source": [
    "num_palabras20(cuarta15_albert_rivera)"
   ]
  },
  {
   "cell_type": "code",
   "execution_count": null,
   "metadata": {},
   "outputs": [],
   "source": [
    "num_palabras20(quinta15_albert_rivera)"
   ]
  },
  {
   "cell_type": "code",
   "execution_count": null,
   "metadata": {},
   "outputs": [],
   "source": [
    "num_palabras20(primera15_col_3_albert_rivera)"
   ]
  },
  {
   "cell_type": "code",
   "execution_count": null,
   "metadata": {},
   "outputs": [],
   "source": [
    "num_palabras20(segunda15_col_3_albert_rivera)"
   ]
  },
  {
   "cell_type": "code",
   "execution_count": null,
   "metadata": {},
   "outputs": [],
   "source": [
    "num_palabras20(tercera15_col_3_albert_rivera)"
   ]
  },
  {
   "cell_type": "code",
   "execution_count": null,
   "metadata": {},
   "outputs": [],
   "source": [
    "num_palabras20(cuarta15_col_3_albert_rivera)"
   ]
  },
  {
   "cell_type": "code",
   "execution_count": null,
   "metadata": {},
   "outputs": [],
   "source": [
    "num_palabras20(quinta15_col_3_albert_rivera)"
   ]
  },
  {
   "cell_type": "code",
   "execution_count": null,
   "metadata": {},
   "outputs": [],
   "source": []
  },
  {
   "cell_type": "code",
   "execution_count": null,
   "metadata": {},
   "outputs": [],
   "source": [
    "num_palabras20(primera15_inesarrimadas)"
   ]
  },
  {
   "cell_type": "code",
   "execution_count": null,
   "metadata": {},
   "outputs": [],
   "source": [
    "num_palabras20(segunda15_inesarrimadas)"
   ]
  },
  {
   "cell_type": "code",
   "execution_count": null,
   "metadata": {},
   "outputs": [],
   "source": [
    "num_palabras20(tercera15_inesarrimadas)"
   ]
  },
  {
   "cell_type": "code",
   "execution_count": null,
   "metadata": {},
   "outputs": [],
   "source": [
    "num_palabras20(cuarta15_inesarrimadas)"
   ]
  },
  {
   "cell_type": "code",
   "execution_count": null,
   "metadata": {},
   "outputs": [],
   "source": [
    "num_palabras20(quinta15_inesarrimadas)"
   ]
  },
  {
   "cell_type": "code",
   "execution_count": null,
   "metadata": {},
   "outputs": [],
   "source": [
    "num_palabras20(primera15_col_3_inesarrimadas)"
   ]
  },
  {
   "cell_type": "code",
   "execution_count": null,
   "metadata": {},
   "outputs": [],
   "source": [
    "num_palabras20(segunda15_col_3_inesarrimadas)"
   ]
  },
  {
   "cell_type": "code",
   "execution_count": null,
   "metadata": {},
   "outputs": [],
   "source": [
    "num_palabras20(tercera15_col_3_inesarrimadas)"
   ]
  },
  {
   "cell_type": "code",
   "execution_count": null,
   "metadata": {},
   "outputs": [],
   "source": [
    "num_palabras20(cuarta15_col_3_inesarrimadas)"
   ]
  },
  {
   "cell_type": "code",
   "execution_count": null,
   "metadata": {},
   "outputs": [],
   "source": [
    "num_palabras20(quinta15_col_3_inesarrimadas)"
   ]
  },
  {
   "cell_type": "code",
   "execution_count": null,
   "metadata": {},
   "outputs": [],
   "source": []
  },
  {
   "cell_type": "code",
   "execution_count": null,
   "metadata": {},
   "outputs": [],
   "source": [
    "num_palabras20(primera15_pablocasado)"
   ]
  },
  {
   "cell_type": "code",
   "execution_count": null,
   "metadata": {},
   "outputs": [],
   "source": [
    "num_palabras20(segunda15_pablocasado)"
   ]
  },
  {
   "cell_type": "code",
   "execution_count": null,
   "metadata": {},
   "outputs": [],
   "source": [
    "num_palabras20(tercera15_pablocasado)"
   ]
  },
  {
   "cell_type": "code",
   "execution_count": null,
   "metadata": {},
   "outputs": [],
   "source": [
    "num_palabras20(cuarta15_pablocasado)"
   ]
  },
  {
   "cell_type": "code",
   "execution_count": null,
   "metadata": {},
   "outputs": [],
   "source": [
    "num_palabras20(quinta15_pablocasado)"
   ]
  },
  {
   "cell_type": "code",
   "execution_count": null,
   "metadata": {},
   "outputs": [],
   "source": [
    "num_palabras20(primera15_col_3_pablocasado)"
   ]
  },
  {
   "cell_type": "code",
   "execution_count": null,
   "metadata": {},
   "outputs": [],
   "source": [
    "num_palabras20(segunda15_col_3_pablocasado)"
   ]
  },
  {
   "cell_type": "code",
   "execution_count": null,
   "metadata": {},
   "outputs": [],
   "source": [
    "num_palabras20(tercera15_col_3_pablocasado)"
   ]
  },
  {
   "cell_type": "code",
   "execution_count": null,
   "metadata": {},
   "outputs": [],
   "source": [
    "num_palabras20(cuarta15_col_3_pablocasado)"
   ]
  },
  {
   "cell_type": "code",
   "execution_count": null,
   "metadata": {},
   "outputs": [],
   "source": [
    "num_palabras20(quinta15_col_3_pablocasado)"
   ]
  },
  {
   "cell_type": "code",
   "execution_count": null,
   "metadata": {},
   "outputs": [],
   "source": []
  },
  {
   "cell_type": "code",
   "execution_count": null,
   "metadata": {},
   "outputs": [],
   "source": [
    "num_palabras20(primera15_irenemontero)"
   ]
  },
  {
   "cell_type": "code",
   "execution_count": null,
   "metadata": {},
   "outputs": [],
   "source": [
    "num_palabras20(segunda15_irenemontero)"
   ]
  },
  {
   "cell_type": "code",
   "execution_count": null,
   "metadata": {},
   "outputs": [],
   "source": [
    "num_palabras20(tercera15_irenemontero)"
   ]
  },
  {
   "cell_type": "code",
   "execution_count": null,
   "metadata": {},
   "outputs": [],
   "source": [
    "num_palabras20(cuarta15_irenemontero)"
   ]
  },
  {
   "cell_type": "code",
   "execution_count": null,
   "metadata": {},
   "outputs": [],
   "source": [
    "num_palabras20(quinta15_irenemontero)"
   ]
  },
  {
   "cell_type": "code",
   "execution_count": null,
   "metadata": {},
   "outputs": [],
   "source": [
    "num_palabras20(primera15_col_3_irene_montero)"
   ]
  },
  {
   "cell_type": "code",
   "execution_count": null,
   "metadata": {},
   "outputs": [],
   "source": [
    "num_palabras20(segunda15_col_3_irene_montero)"
   ]
  },
  {
   "cell_type": "code",
   "execution_count": null,
   "metadata": {},
   "outputs": [],
   "source": [
    "num_palabras20(tercera15_col_3_irene_montero)"
   ]
  },
  {
   "cell_type": "code",
   "execution_count": null,
   "metadata": {},
   "outputs": [],
   "source": [
    "num_palabras20(cuarta15_col_3_irene_montero)"
   ]
  },
  {
   "cell_type": "code",
   "execution_count": null,
   "metadata": {},
   "outputs": [],
   "source": [
    "num_palabras20(quinta15_col_3_irene_montero)"
   ]
  },
  {
   "cell_type": "code",
   "execution_count": null,
   "metadata": {},
   "outputs": [],
   "source": []
  },
  {
   "cell_type": "code",
   "execution_count": null,
   "metadata": {},
   "outputs": [],
   "source": [
    "num_palabras20(primera15_carmencalvo)"
   ]
  },
  {
   "cell_type": "code",
   "execution_count": null,
   "metadata": {},
   "outputs": [],
   "source": [
    "num_palabras20(segunda15_carmencalvo)"
   ]
  },
  {
   "cell_type": "code",
   "execution_count": null,
   "metadata": {},
   "outputs": [],
   "source": [
    "num_palabras20(tercera15_carmencalvo)"
   ]
  },
  {
   "cell_type": "code",
   "execution_count": null,
   "metadata": {},
   "outputs": [],
   "source": [
    "num_palabras20(cuarta15_carmencalvo)"
   ]
  },
  {
   "cell_type": "code",
   "execution_count": null,
   "metadata": {},
   "outputs": [],
   "source": [
    "num_palabras20(quinta15_carmencalvo)"
   ]
  },
  {
   "cell_type": "code",
   "execution_count": null,
   "metadata": {},
   "outputs": [],
   "source": [
    "num_palabras20(primera15_col_3_carmencalvo)"
   ]
  },
  {
   "cell_type": "code",
   "execution_count": null,
   "metadata": {},
   "outputs": [],
   "source": [
    "num_palabras20(segunda15_col_3_carmencalvo)"
   ]
  },
  {
   "cell_type": "code",
   "execution_count": null,
   "metadata": {},
   "outputs": [],
   "source": [
    "num_palabras20(tercera15_col_3_carmencalvo)"
   ]
  },
  {
   "cell_type": "code",
   "execution_count": null,
   "metadata": {},
   "outputs": [],
   "source": [
    "num_palabras20(cuarta15_col_3_carmencalvo)"
   ]
  },
  {
   "cell_type": "code",
   "execution_count": null,
   "metadata": {},
   "outputs": [],
   "source": [
    "num_palabras20(quinta15_col_3_carmencalvo)"
   ]
  },
  {
   "cell_type": "code",
   "execution_count": null,
   "metadata": {},
   "outputs": [],
   "source": []
  },
  {
   "cell_type": "code",
   "execution_count": null,
   "metadata": {},
   "outputs": [],
   "source": [
    "num_palabras20(primera15_cayetanaat)"
   ]
  },
  {
   "cell_type": "code",
   "execution_count": null,
   "metadata": {},
   "outputs": [],
   "source": [
    "num_palabras20(segunda15_cayetanaat)"
   ]
  },
  {
   "cell_type": "code",
   "execution_count": null,
   "metadata": {},
   "outputs": [],
   "source": [
    "num_palabras20(tercera15_cayetanaat)"
   ]
  },
  {
   "cell_type": "code",
   "execution_count": null,
   "metadata": {},
   "outputs": [],
   "source": [
    "num_palabras20(cuarta15_cayetanaat)"
   ]
  },
  {
   "cell_type": "code",
   "execution_count": null,
   "metadata": {},
   "outputs": [],
   "source": [
    "num_palabras20(quinta15_cayetanaat)"
   ]
  },
  {
   "cell_type": "code",
   "execution_count": null,
   "metadata": {},
   "outputs": [],
   "source": [
    "num_palabras20(primera15_col_3_cayetanaat)"
   ]
  },
  {
   "cell_type": "code",
   "execution_count": null,
   "metadata": {},
   "outputs": [],
   "source": [
    "num_palabras20(segunda15_col_3_cayetanaat)"
   ]
  },
  {
   "cell_type": "code",
   "execution_count": null,
   "metadata": {},
   "outputs": [],
   "source": [
    "num_palabras20(tercera15_col_3_cayetanaat)"
   ]
  },
  {
   "cell_type": "code",
   "execution_count": null,
   "metadata": {},
   "outputs": [],
   "source": [
    "num_palabras20(cuarta15_col_3_cayetanaat)"
   ]
  },
  {
   "cell_type": "code",
   "execution_count": null,
   "metadata": {},
   "outputs": [],
   "source": [
    "num_palabras20(quinta15_col_3_cayetanaat)"
   ]
  },
  {
   "cell_type": "code",
   "execution_count": null,
   "metadata": {},
   "outputs": [],
   "source": []
  },
  {
   "cell_type": "code",
   "execution_count": null,
   "metadata": {},
   "outputs": [],
   "source": [
    "num_palabras20(primera15_monasterior)"
   ]
  },
  {
   "cell_type": "code",
   "execution_count": null,
   "metadata": {},
   "outputs": [],
   "source": [
    "num_palabras20(segunda15_monasterior)"
   ]
  },
  {
   "cell_type": "code",
   "execution_count": null,
   "metadata": {},
   "outputs": [],
   "source": [
    "num_palabras20(tercera15_monasterior)"
   ]
  },
  {
   "cell_type": "code",
   "execution_count": null,
   "metadata": {},
   "outputs": [],
   "source": [
    "num_palabras20(cuarta15_monasterior)"
   ]
  },
  {
   "cell_type": "code",
   "execution_count": null,
   "metadata": {},
   "outputs": [],
   "source": [
    "num_palabras20(quinta15_monasterior)"
   ]
  },
  {
   "cell_type": "code",
   "execution_count": null,
   "metadata": {},
   "outputs": [],
   "source": [
    "num_palabras20(primera15_col_3_monasterior)"
   ]
  },
  {
   "cell_type": "code",
   "execution_count": null,
   "metadata": {},
   "outputs": [],
   "source": [
    "num_palabras20(segunda15_col_3_monasterior)"
   ]
  },
  {
   "cell_type": "code",
   "execution_count": null,
   "metadata": {},
   "outputs": [],
   "source": [
    "num_palabras20(tercera15_col_3_monasterior)"
   ]
  },
  {
   "cell_type": "code",
   "execution_count": null,
   "metadata": {},
   "outputs": [],
   "source": [
    "num_palabras20(cuarta15_col_3_monasterior)"
   ]
  },
  {
   "cell_type": "code",
   "execution_count": null,
   "metadata": {},
   "outputs": [],
   "source": [
    "num_palabras20(quinta15_col_3_monasterior)"
   ]
  },
  {
   "cell_type": "code",
   "execution_count": null,
   "metadata": {},
   "outputs": [],
   "source": []
  }
 ],
 "metadata": {
  "kernelspec": {
   "display_name": "Python 3",
   "language": "python",
   "name": "python3"
  },
  "language_info": {
   "codemirror_mode": {
    "name": "ipython",
    "version": 3
   },
   "file_extension": ".py",
   "mimetype": "text/x-python",
   "name": "python",
   "nbconvert_exporter": "python",
   "pygments_lexer": "ipython3",
   "version": "3.7.3"
  }
 },
 "nbformat": 4,
 "nbformat_minor": 2
}
